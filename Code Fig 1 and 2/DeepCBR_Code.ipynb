{
 "cells": [
  {
   "cell_type": "code",
   "execution_count": 1,
   "metadata": {},
   "outputs": [
    {
     "name": "stdout",
     "output_type": "stream",
     "text": [
      "WARNING:tensorflow:From <ipython-input-1-865d84e1b03e>:5: read_data_sets (from tensorflow.contrib.learn.python.learn.datasets.mnist) is deprecated and will be removed in a future version.\n",
      "Instructions for updating:\n",
      "Please use alternatives such as official/mnist/dataset.py from tensorflow/models.\n",
      "WARNING:tensorflow:From /home/prateek/anaconda3/lib/python3.7/site-packages/tensorflow_core/contrib/learn/python/learn/datasets/mnist.py:260: maybe_download (from tensorflow.contrib.learn.python.learn.datasets.base) is deprecated and will be removed in a future version.\n",
      "Instructions for updating:\n",
      "Please write your own downloading logic.\n",
      "WARNING:tensorflow:From /home/prateek/anaconda3/lib/python3.7/site-packages/tensorflow_core/contrib/learn/python/learn/datasets/mnist.py:262: extract_images (from tensorflow.contrib.learn.python.learn.datasets.mnist) is deprecated and will be removed in a future version.\n",
      "Instructions for updating:\n",
      "Please use tf.data to implement this functionality.\n",
      "Extracting MNIST_data/train-images-idx3-ubyte.gz\n",
      "WARNING:tensorflow:From /home/prateek/anaconda3/lib/python3.7/site-packages/tensorflow_core/contrib/learn/python/learn/datasets/mnist.py:267: extract_labels (from tensorflow.contrib.learn.python.learn.datasets.mnist) is deprecated and will be removed in a future version.\n",
      "Instructions for updating:\n",
      "Please use tf.data to implement this functionality.\n",
      "Extracting MNIST_data/train-labels-idx1-ubyte.gz\n",
      "Extracting MNIST_data/t10k-images-idx3-ubyte.gz\n",
      "Extracting MNIST_data/t10k-labels-idx1-ubyte.gz\n",
      "WARNING:tensorflow:From /home/prateek/anaconda3/lib/python3.7/site-packages/tensorflow_core/contrib/learn/python/learn/datasets/mnist.py:290: DataSet.__init__ (from tensorflow.contrib.learn.python.learn.datasets.mnist) is deprecated and will be removed in a future version.\n",
      "Instructions for updating:\n",
      "Please use alternatives such as official/mnist/dataset.py from tensorflow/models.\n"
     ]
    }
   ],
   "source": [
    "%matplotlib inline\n",
    "import numpy as np\n",
    "import matplotlib.pyplot as plt\n",
    "from tensorflow.examples.tutorials.mnist import input_data\n",
    "mnist = input_data.read_data_sets(\"MNIST_data/\")\n",
    "import tensorflow as tf\n",
    "from tensorflow.keras import layers\n",
    "from tensorflow.keras.models import Sequential\n",
    "from tensorflow.keras.layers import Dense, Conv2D, Dropout, Flatten, MaxPooling2D\n",
    "from tensorflow.keras.callbacks import LambdaCallback, ModelCheckpoint\n",
    "import h5py\n",
    "import random"
   ]
  },
  {
   "cell_type": "code",
   "execution_count": 2,
   "metadata": {},
   "outputs": [],
   "source": [
    "mnist_images_train = mnist.train.images\n",
    "mnist_labels_train = mnist.train.labels\n",
    "mnist_images_test = mnist.test.images\n",
    "mnist_labels_test = mnist.test.labels"
   ]
  },
  {
   "cell_type": "code",
   "execution_count": 3,
   "metadata": {},
   "outputs": [],
   "source": [
    "digits = 10\n",
    "Y_train = []\n",
    "Y_test = []\n",
    "Y_train = np.eye(digits)[mnist_labels_train.astype('int32')]\n",
    "Y_test = np.eye(digits)[mnist_labels_test.astype('int32')]"
   ]
  },
  {
   "cell_type": "code",
   "execution_count": 4,
   "metadata": {},
   "outputs": [],
   "source": [
    "X_train = mnist_images_train.reshape(mnist_images_train.shape[0], 28, 28, 1)\n",
    "X_test = mnist_images_test.reshape(mnist_images_test.shape[0], 28, 28, 1)"
   ]
  },
  {
   "cell_type": "code",
   "execution_count": 5,
   "metadata": {},
   "outputs": [
    {
     "name": "stdout",
     "output_type": "stream",
     "text": [
      "WARNING:tensorflow:From /home/prateek/anaconda3/lib/python3.7/site-packages/tensorflow_core/python/ops/resource_variable_ops.py:1630: calling BaseResourceVariable.__init__ (from tensorflow.python.ops.resource_variable_ops) with constraint is deprecated and will be removed in a future version.\n",
      "Instructions for updating:\n",
      "If using Keras pass *_constraint arguments to layers.\n"
     ]
    }
   ],
   "source": [
    "model = Sequential()\n",
    "model.add(Conv2D(28, kernel_size=(3,3), input_shape=[28, 28, 1]))\n",
    "model.add(MaxPooling2D(pool_size=(2, 2)))\n",
    "model.add(Flatten()) # Flattening the 2D arrays for fully connected layers\n",
    "model.add(Dense(128, activation=tf.nn.relu))\n",
    "model.add(Dropout(0.2))\n",
    "model.add(Dense(10,activation=tf.nn.softmax))"
   ]
  },
  {
   "cell_type": "code",
   "execution_count": 6,
   "metadata": {},
   "outputs": [
    {
     "name": "stdout",
     "output_type": "stream",
     "text": [
      "WARNING:tensorflow:`period` argument is deprecated. Please use `save_freq` to specify the frequency in number of samples seen.\n"
     ]
    }
   ],
   "source": [
    "mc = ModelCheckpoint('weights{epoch:02d}.h5', save_weights_only=True, period=1)"
   ]
  },
  {
   "cell_type": "code",
   "execution_count": 7,
   "metadata": {},
   "outputs": [
    {
     "name": "stdout",
     "output_type": "stream",
     "text": [
      "Train on 55000 samples, validate on 10000 samples\n",
      "Epoch 1/10\n",
      "55000/55000 [==============================] - 12s 225us/sample - loss: 2.2244 - acc: 0.2786 - val_loss: 2.1356 - val_acc: 0.4467\n",
      "Epoch 2/10\n",
      "55000/55000 [==============================] - 12s 219us/sample - loss: 2.0578 - acc: 0.5079 - val_loss: 1.9598 - val_acc: 0.6189\n",
      "Epoch 3/10\n",
      "55000/55000 [==============================] - 12s 220us/sample - loss: 1.8816 - acc: 0.6229 - val_loss: 1.7723 - val_acc: 0.7042\n",
      "Epoch 4/10\n",
      "55000/55000 [==============================] - 13s 227us/sample - loss: 1.7019 - acc: 0.6841 - val_loss: 1.5848 - val_acc: 0.7617\n",
      "Epoch 5/10\n",
      "55000/55000 [==============================] - 13s 235us/sample - loss: 1.5241 - acc: 0.7275 - val_loss: 1.4030 - val_acc: 0.7960\n",
      "Epoch 6/10\n",
      "55000/55000 [==============================] - 13s 236us/sample - loss: 1.3582 - acc: 0.7514 - val_loss: 1.2399 - val_acc: 0.8145\n",
      "Epoch 7/10\n",
      "55000/55000 [==============================] - 13s 238us/sample - loss: 1.2132 - acc: 0.7731 - val_loss: 1.0989 - val_acc: 0.8253\n",
      "Epoch 8/10\n",
      "55000/55000 [==============================] - 13s 238us/sample - loss: 1.0901 - acc: 0.7852 - val_loss: 0.9797 - val_acc: 0.8361\n",
      "Epoch 9/10\n",
      "55000/55000 [==============================] - 13s 239us/sample - loss: 0.9879 - acc: 0.7967 - val_loss: 0.8816 - val_acc: 0.8443\n",
      "Epoch 10/10\n",
      "55000/55000 [==============================] - 13s 237us/sample - loss: 0.9052 - acc: 0.8042 - val_loss: 0.8015 - val_acc: 0.8529\n",
      "Test loss: 0.8014919906616211\n",
      "Test accuracy: 0.8529\n"
     ]
    }
   ],
   "source": [
    "batch_size = 64\n",
    "model.compile(loss=tf.keras.losses.categorical_crossentropy,\n",
    "              optimizer=tf.keras.optimizers.Adadelta(),\n",
    "              metrics=['accuracy'])\n",
    "model.fit(X_train, Y_train,\n",
    "          batch_size=batch_size,\n",
    "          epochs=10,\n",
    "          verbose=1,\n",
    "          validation_data=(X_test, Y_test), callbacks = [mc])\n",
    "score = model.evaluate(X_test, Y_test, verbose=0)\n",
    "print('Test loss:', score[0])\n",
    "print('Test accuracy:', score[1])"
   ]
  },
  {
   "cell_type": "code",
   "execution_count": 8,
   "metadata": {},
   "outputs": [],
   "source": [
    "f=open(\"training_predictions.txt\",\"w\")\n",
    "model.load_weights('weights01.h5')\n",
    "for x in model.predict_classes(X_train):\n",
    "    f.write(str(x)+\" \")\n",
    "f.write(\"\\n\")\n",
    "model.load_weights('weights02.h5')\n",
    "for x in model.predict_classes(X_train):\n",
    "    f.write(str(x)+\" \")\n",
    "f.write(\"\\n\")\n",
    "model.load_weights('weights03.h5')\n",
    "for x in model.predict_classes(X_train):\n",
    "    f.write(str(x)+\" \")\n",
    "f.write(\"\\n\")\n",
    "model.load_weights('weights04.h5')\n",
    "for x in model.predict_classes(X_train):\n",
    "    f.write(str(x)+\" \")\n",
    "f.write(\"\\n\")\n",
    "model.load_weights('weights05.h5')\n",
    "for x in model.predict_classes(X_train):\n",
    "    f.write(str(x)+\" \")\n",
    "f.write(\"\\n\")\n",
    "model.load_weights('weights06.h5')\n",
    "for x in model.predict_classes(X_train):\n",
    "    f.write(str(x)+\" \")\n",
    "f.write(\"\\n\")\n",
    "model.load_weights('weights07.h5')\n",
    "for x in model.predict_classes(X_train):\n",
    "    f.write(str(x)+\" \")\n",
    "f.write(\"\\n\")\n",
    "model.load_weights('weights08.h5')\n",
    "for x in model.predict_classes(X_train):\n",
    "    f.write(str(x)+\" \")\n",
    "f.write(\"\\n\")\n",
    "model.load_weights('weights09.h5')\n",
    "for x in model.predict_classes(X_train):\n",
    "    f.write(str(x)+\" \")\n",
    "f.write(\"\\n\")\n",
    "model.load_weights('weights10.h5')\n",
    "for x in model.predict_classes(X_train):\n",
    "    f.write(str(x)+\" \")\n",
    "f.write(\"\\n\")\n",
    "f.close()"
   ]
  },
  {
   "cell_type": "code",
   "execution_count": 9,
   "metadata": {},
   "outputs": [],
   "source": [
    "# m1 = int(0.05*784)\n",
    "# m2 = int(0.1*784)\n",
    "# m3 = int(0.15*784)\n",
    "# m4 = int(0.2*784)\n",
    "# m5 = int(0.25*784)\n",
    "\n",
    "# randomlist_m1 = np.sort(random.sample(range(0, 784), m1))\n",
    "# randomlist_m2 = np.sort(random.sample(range(0, 784), m2))\n",
    "# randomlist_m3 = np.sort(random.sample(range(0, 784), m3))\n",
    "# randomlist_m4 = np.sort(random.sample(range(0, 784), m4))\n",
    "# randomlist_m5 = np.sort(random.sample(range(0, 784), m5))"
   ]
  },
  {
   "cell_type": "code",
   "execution_count": 38,
   "metadata": {},
   "outputs": [
    {
     "data": {
      "text/plain": [
       "1"
      ]
     },
     "execution_count": 38,
     "metadata": {},
     "output_type": "execute_result"
    }
   ],
   "source": [
    "# f = open(\"random_list.txt\",\"w\")\n",
    "# for x in randomlist_m1:\n",
    "#     f.write(str(x)+\" \")\n",
    "# f.write(\"\\n\")\n",
    "# for x in randomlist_m2:\n",
    "#     f.write(str(x)+\" \")\n",
    "# f.write(\"\\n\")\n",
    "# for x in randomlist_m3:\n",
    "#     f.write(str(x) + \" \")\n",
    "# f.write(\"\\n\")\n",
    "# for x in randomlist_m4:\n",
    "#     f.write(str(x) + \" \")\n",
    "# f.write(\"\\n\")\n",
    "# for x in randomlist_m5:\n",
    "#     f.write(str(x) + \" \")\n",
    "# f.write(\"\\n\")"
   ]
  },
  {
   "cell_type": "code",
   "execution_count": 52,
   "metadata": {},
   "outputs": [],
   "source": [
    "f = open(\"random_list.txt\",\"r\")\n",
    "random_numbers = f.readlines()\n",
    "randomlist_m1 = random_numbers[0].split(\" \")\n",
    "randomlist_m1.remove(\"\\n\")\n",
    "randomlist_m1 = [int(x) for x in randomlist_m1]\n",
    "randomlist_m2 = random_numbers[1].split(\" \")\n",
    "randomlist_m2.remove(\"\\n\")\n",
    "randomlist_m2 = [int(x) for x in randomlist_m2]\n",
    "randomlist_m3 = random_numbers[2].split(\" \")\n",
    "randomlist_m3.remove(\"\\n\")\n",
    "randomlist_m3 = [int(x) for x in randomlist_m3]\n",
    "randomlist_m4 = random_numbers[3].split(\" \")\n",
    "randomlist_m4.remove(\"\\n\")\n",
    "randomlist_m4 = [int(x) for x in randomlist_m4]\n",
    "randomlist_m5 = random_numbers[4].split(\" \")\n",
    "randomlist_m5.remove(\"\\n\")\n",
    "randomlist_m5 = [int(x) for x in randomlist_m5]\n"
   ]
  },
  {
   "cell_type": "code",
   "execution_count": 10,
   "metadata": {},
   "outputs": [],
   "source": [
    "X_train_new_1 = X_train.reshape(X_train.shape[0], 1 , 784, 1).copy()\n",
    "for sample in X_train_new_1:\n",
    "    for t in randomlist_m1:\n",
    "        sample[0][t] = 1-sample[0][t]\n",
    "X_train_new_2 = X_train.reshape(X_train.shape[0], 1 , 784, 1).copy()\n",
    "for sample in X_train_new_2:\n",
    "    for t in randomlist_m2:\n",
    "        sample[0][t] = 1-sample[0][t]\n",
    "X_train_new_3 = X_train.reshape(X_train.shape[0], 1 , 784, 1).copy()\n",
    "for sample in X_train_new_3:\n",
    "    for t in randomlist_m3:\n",
    "        sample[0][t] = 1-sample[0][t]\n",
    "X_train_new_4 = X_train.reshape(X_train.shape[0], 1 , 784, 1).copy()\n",
    "for sample in X_train_new_4:\n",
    "    for t in randomlist_m4:\n",
    "        sample[0][t] = 1-sample[0][t]\n",
    "X_train_new_5 = X_train.reshape(X_train.shape[0], 1 , 784, 1).copy()\n",
    "for sample in X_train_new_5:\n",
    "    for t in randomlist_m5:\n",
    "        sample[0][t] = 1-sample[0][t]"
   ]
  },
  {
   "cell_type": "code",
   "execution_count": 11,
   "metadata": {},
   "outputs": [],
   "source": [
    "X_train_m1 = X_train_new_1.reshape(X_train.shape[0], 28, 28, 1).copy()\n",
    "X_train_m2 = X_train_new_2.reshape(X_train.shape[0], 28, 28, 1).copy()\n",
    "X_train_m3 = X_train_new_3.reshape(X_train.shape[0], 28, 28, 1).copy()\n",
    "X_train_m4 = X_train_new_4.reshape(X_train.shape[0], 28, 28, 1).copy()\n",
    "X_train_m5 = X_train_new_5.reshape(X_train.shape[0], 28, 28, 1).copy()"
   ]
  },
  {
   "cell_type": "code",
   "execution_count": 12,
   "metadata": {},
   "outputs": [
    {
     "data": {
      "text/plain": [
       "1"
      ]
     },
     "execution_count": 12,
     "metadata": {},
     "output_type": "execute_result"
    }
   ],
   "source": [
    "f=open(\"training_predictions_m1.txt\",\"w\")\n",
    "model.load_weights('weights01.h5')\n",
    "for x in model.predict_classes(X_train_m1):\n",
    "    f.write(str(x)+\" \")\n",
    "f.write(\"\\n\")\n",
    "model.load_weights('weights02.h5')\n",
    "for x in model.predict_classes(X_train_m1):\n",
    "    f.write(str(x)+\" \")\n",
    "f.write(\"\\n\")\n",
    "model.load_weights('weights03.h5')\n",
    "for x in model.predict_classes(X_train_m1):\n",
    "    f.write(str(x)+\" \")\n",
    "f.write(\"\\n\")\n",
    "model.load_weights('weights04.h5')\n",
    "for x in model.predict_classes(X_train_m1):\n",
    "    f.write(str(x)+\" \")\n",
    "f.write(\"\\n\")\n",
    "model.load_weights('weights05.h5')\n",
    "for x in model.predict_classes(X_train_m1):\n",
    "    f.write(str(x)+\" \")\n",
    "f.write(\"\\n\")\n",
    "model.load_weights('weights06.h5')\n",
    "for x in model.predict_classes(X_train_m1):\n",
    "    f.write(str(x)+\" \")\n",
    "f.write(\"\\n\")\n",
    "model.load_weights('weights07.h5')\n",
    "for x in model.predict_classes(X_train_m1):\n",
    "    f.write(str(x)+\" \")\n",
    "f.write(\"\\n\")\n",
    "model.load_weights('weights08.h5')\n",
    "for x in model.predict_classes(X_train_m1):\n",
    "    f.write(str(x)+\" \")\n",
    "f.write(\"\\n\")\n",
    "model.load_weights('weights09.h5')\n",
    "for x in model.predict_classes(X_train_m1):\n",
    "    f.write(str(x)+\" \")\n",
    "f.write(\"\\n\")\n",
    "model.load_weights('weights10.h5')\n",
    "for x in model.predict_classes(X_train_m1):\n",
    "    f.write(str(x)+\" \")\n",
    "f.write(\"\\n\")"
   ]
  },
  {
   "cell_type": "code",
   "execution_count": 13,
   "metadata": {},
   "outputs": [
    {
     "data": {
      "text/plain": [
       "1"
      ]
     },
     "execution_count": 13,
     "metadata": {},
     "output_type": "execute_result"
    }
   ],
   "source": [
    "f=open(\"training_predictions_m2.txt\",\"w\")\n",
    "model.load_weights('weights01.h5')\n",
    "for x in model.predict_classes(X_train_m2):\n",
    "    f.write(str(x)+\" \")\n",
    "f.write(\"\\n\")\n",
    "model.load_weights('weights02.h5')\n",
    "for x in model.predict_classes(X_train_m2):\n",
    "    f.write(str(x)+\" \")\n",
    "f.write(\"\\n\")\n",
    "model.load_weights('weights03.h5')\n",
    "for x in model.predict_classes(X_train_m2):\n",
    "    f.write(str(x)+\" \")\n",
    "f.write(\"\\n\")\n",
    "model.load_weights('weights04.h5')\n",
    "for x in model.predict_classes(X_train_m2):\n",
    "    f.write(str(x)+\" \")\n",
    "f.write(\"\\n\")\n",
    "model.load_weights('weights05.h5')\n",
    "for x in model.predict_classes(X_train_m2):\n",
    "    f.write(str(x)+\" \")\n",
    "f.write(\"\\n\")\n",
    "model.load_weights('weights06.h5')\n",
    "for x in model.predict_classes(X_train_m2):\n",
    "    f.write(str(x)+\" \")\n",
    "f.write(\"\\n\")\n",
    "model.load_weights('weights07.h5')\n",
    "for x in model.predict_classes(X_train_m2):\n",
    "    f.write(str(x)+\" \")\n",
    "f.write(\"\\n\")\n",
    "model.load_weights('weights08.h5')\n",
    "for x in model.predict_classes(X_train_m2):\n",
    "    f.write(str(x)+\" \")\n",
    "f.write(\"\\n\")\n",
    "model.load_weights('weights09.h5')\n",
    "for x in model.predict_classes(X_train_m2):\n",
    "    f.write(str(x)+\" \")\n",
    "f.write(\"\\n\")\n",
    "model.load_weights('weights10.h5')\n",
    "for x in model.predict_classes(X_train_m2):\n",
    "    f.write(str(x)+\" \")\n",
    "f.write(\"\\n\")"
   ]
  },
  {
   "cell_type": "code",
   "execution_count": 14,
   "metadata": {},
   "outputs": [
    {
     "data": {
      "text/plain": [
       "1"
      ]
     },
     "execution_count": 14,
     "metadata": {},
     "output_type": "execute_result"
    }
   ],
   "source": [
    "f=open(\"training_predictions_m3.txt\",\"w\")\n",
    "model.load_weights('weights01.h5')\n",
    "for x in model.predict_classes(X_train_m3):\n",
    "    f.write(str(x)+\" \")\n",
    "f.write(\"\\n\")\n",
    "model.load_weights('weights02.h5')\n",
    "for x in model.predict_classes(X_train_m3):\n",
    "    f.write(str(x)+\" \")\n",
    "f.write(\"\\n\")\n",
    "model.load_weights('weights03.h5')\n",
    "for x in model.predict_classes(X_train_m3):\n",
    "    f.write(str(x)+\" \")\n",
    "f.write(\"\\n\")\n",
    "model.load_weights('weights04.h5')\n",
    "for x in model.predict_classes(X_train_m3):\n",
    "    f.write(str(x)+\" \")\n",
    "f.write(\"\\n\")\n",
    "model.load_weights('weights05.h5')\n",
    "for x in model.predict_classes(X_train_m3):\n",
    "    f.write(str(x)+\" \")\n",
    "f.write(\"\\n\")\n",
    "model.load_weights('weights06.h5')\n",
    "for x in model.predict_classes(X_train_m3):\n",
    "    f.write(str(x)+\" \")\n",
    "f.write(\"\\n\")\n",
    "model.load_weights('weights07.h5')\n",
    "for x in model.predict_classes(X_train_m3):\n",
    "    f.write(str(x)+\" \")\n",
    "f.write(\"\\n\")\n",
    "model.load_weights('weights08.h5')\n",
    "for x in model.predict_classes(X_train_m3):\n",
    "    f.write(str(x)+\" \")\n",
    "f.write(\"\\n\")\n",
    "model.load_weights('weights09.h5')\n",
    "for x in model.predict_classes(X_train_m3):\n",
    "    f.write(str(x)+\" \")\n",
    "f.write(\"\\n\")\n",
    "model.load_weights('weights10.h5')\n",
    "for x in model.predict_classes(X_train_m3):\n",
    "    f.write(str(x)+\" \")\n",
    "f.write(\"\\n\")"
   ]
  },
  {
   "cell_type": "code",
   "execution_count": 15,
   "metadata": {},
   "outputs": [
    {
     "data": {
      "text/plain": [
       "1"
      ]
     },
     "execution_count": 15,
     "metadata": {},
     "output_type": "execute_result"
    }
   ],
   "source": [
    "f=open(\"training_predictions_m4.txt\",\"w\")\n",
    "model.load_weights('weights01.h5')\n",
    "for x in model.predict_classes(X_train_m4):\n",
    "    f.write(str(x)+\" \")\n",
    "f.write(\"\\n\")\n",
    "model.load_weights('weights02.h5')\n",
    "for x in model.predict_classes(X_train_m4):\n",
    "    f.write(str(x)+\" \")\n",
    "f.write(\"\\n\")\n",
    "model.load_weights('weights03.h5')\n",
    "for x in model.predict_classes(X_train_m4):\n",
    "    f.write(str(x)+\" \")\n",
    "f.write(\"\\n\")\n",
    "model.load_weights('weights04.h5')\n",
    "for x in model.predict_classes(X_train_m4):\n",
    "    f.write(str(x)+\" \")\n",
    "f.write(\"\\n\")\n",
    "model.load_weights('weights05.h5')\n",
    "for x in model.predict_classes(X_train_m4):\n",
    "    f.write(str(x)+\" \")\n",
    "f.write(\"\\n\")\n",
    "model.load_weights('weights06.h5')\n",
    "for x in model.predict_classes(X_train_m4):\n",
    "    f.write(str(x)+\" \")\n",
    "f.write(\"\\n\")\n",
    "model.load_weights('weights07.h5')\n",
    "for x in model.predict_classes(X_train_m4):\n",
    "    f.write(str(x)+\" \")\n",
    "f.write(\"\\n\")\n",
    "model.load_weights('weights08.h5')\n",
    "for x in model.predict_classes(X_train_m4):\n",
    "    f.write(str(x)+\" \")\n",
    "f.write(\"\\n\")\n",
    "model.load_weights('weights09.h5')\n",
    "for x in model.predict_classes(X_train_m4):\n",
    "    f.write(str(x)+\" \")\n",
    "f.write(\"\\n\")\n",
    "model.load_weights('weights10.h5')\n",
    "for x in model.predict_classes(X_train_m4):\n",
    "    f.write(str(x)+\" \")\n",
    "f.write(\"\\n\")"
   ]
  },
  {
   "cell_type": "code",
   "execution_count": 16,
   "metadata": {},
   "outputs": [
    {
     "data": {
      "text/plain": [
       "1"
      ]
     },
     "execution_count": 16,
     "metadata": {},
     "output_type": "execute_result"
    }
   ],
   "source": [
    "f=open(\"training_predictions_m5.txt\",\"w\")\n",
    "model.load_weights('weights01.h5')\n",
    "for x in model.predict_classes(X_train_m5):\n",
    "    f.write(str(x)+\" \")\n",
    "f.write(\"\\n\")\n",
    "model.load_weights('weights02.h5')\n",
    "for x in model.predict_classes(X_train_m5):\n",
    "    f.write(str(x)+\" \")\n",
    "f.write(\"\\n\")\n",
    "model.load_weights('weights03.h5')\n",
    "for x in model.predict_classes(X_train_m5):\n",
    "    f.write(str(x)+\" \")\n",
    "f.write(\"\\n\")\n",
    "model.load_weights('weights04.h5')\n",
    "for x in model.predict_classes(X_train_m5):\n",
    "    f.write(str(x)+\" \")\n",
    "f.write(\"\\n\")\n",
    "model.load_weights('weights05.h5')\n",
    "for x in model.predict_classes(X_train_m5):\n",
    "    f.write(str(x)+\" \")\n",
    "f.write(\"\\n\")\n",
    "model.load_weights('weights06.h5')\n",
    "for x in model.predict_classes(X_train_m5):\n",
    "    f.write(str(x)+\" \")\n",
    "f.write(\"\\n\")\n",
    "model.load_weights('weights07.h5')\n",
    "for x in model.predict_classes(X_train_m5):\n",
    "    f.write(str(x)+\" \")\n",
    "f.write(\"\\n\")\n",
    "model.load_weights('weights08.h5')\n",
    "for x in model.predict_classes(X_train_m5):\n",
    "    f.write(str(x)+\" \")\n",
    "f.write(\"\\n\")\n",
    "model.load_weights('weights09.h5')\n",
    "for x in model.predict_classes(X_train_m5):\n",
    "    f.write(str(x)+\" \")\n",
    "f.write(\"\\n\")\n",
    "model.load_weights('weights10.h5')\n",
    "for x in model.predict_classes(X_train_m5):\n",
    "    f.write(str(x)+\" \")\n",
    "f.write(\"\\n\")"
   ]
  },
  {
   "cell_type": "code",
   "execution_count": 82,
   "metadata": {},
   "outputs": [
    {
     "name": "stdout",
     "output_type": "stream",
     "text": [
      "2 0 4 6 1 4 1 0 6 0 0 3 1 0 6 0 2 0 6 0 1 6 5 1 6 4 6 4 4 0 4 0 4 4 0 7 3 4 4 6 6 0 6 0 4 0 0 4 0 0 \n",
      "2 3 4 6 1 8 1 0 4 0 0 3 1 0 7 0 2 0 6 0 1 6 1 1 4 7 6 4 4 0 1 3 4 4 0 7 3 1 4 6 6 3 6 8 4 0 4 4 0 0 \n",
      "2 3 4 6 1 8 1 0 4 8 0 3 1 0 7 0 2 9 6 0 1 6 1 1 4 7 6 5 3 0 1 3 4 4 8 7 3 1 4 6 6 3 6 8 4 0 4 4 0 0 \n",
      "2 3 9 6 1 8 1 0 9 8 0 3 1 0 7 0 2 9 6 0 1 6 1 1 4 7 6 5 3 0 1 3 4 4 8 7 3 1 4 6 6 3 6 8 4 0 4 4 0 0 \n",
      "7 3 9 6 1 8 1 0 9 8 0 3 1 0 7 0 2 9 6 0 1 6 1 1 4 7 6 5 3 0 1 3 4 4 8 7 3 1 4 6 6 3 6 8 4 0 9 4 0 7 \n",
      "7 3 9 6 1 8 1 0 9 8 0 3 1 0 7 0 2 9 6 0 1 6 1 1 4 7 6 5 5 8 1 3 4 4 8 7 3 1 4 6 6 3 6 8 4 0 9 4 0 7 \n",
      "7 3 9 6 1 8 1 0 9 8 0 3 1 0 7 0 2 9 6 0 1 6 1 1 9 7 6 5 5 8 1 3 4 4 8 7 3 1 4 6 6 3 6 8 4 0 9 4 0 7 \n",
      "7 3 9 6 1 8 1 0 9 8 0 3 1 0 7 0 2 9 6 0 1 6 1 1 9 7 6 5 5 8 1 3 4 4 8 7 3 1 4 6 6 3 3 8 9 0 9 4 0 7 \n",
      "7 3 9 6 1 8 1 0 9 8 0 3 1 0 7 0 2 9 6 0 1 6 1 1 9 7 6 5 5 8 1 3 4 4 8 7 3 1 4 6 6 3 3 8 9 0 9 4 0 7 \n",
      "7 3 9 6 1 8 1 0 9 8 0 3 1 0 7 0 2 9 6 0 1 6 1 1 9 7 6 5 5 8 8 3 4 4 8 7 3 1 4 6 6 3 3 8 9 0 4 4 0 7 \n"
     ]
    }
   ],
   "source": [
    "f = open(\"training_predictions.txt\",\"r\")\n",
    "predictions_orig = f.readlines()\n",
    "print(np.asarray(predictions_orig)[0][:100])\n",
    "print(np.asarray(predictions_orig)[1][:100])\n",
    "print(np.asarray(predictions_orig)[2][:100])\n",
    "print(np.asarray(predictions_orig)[3][:100])\n",
    "print(np.asarray(predictions_orig)[4][:100])\n",
    "print(np.asarray(predictions_orig)[5][:100])\n",
    "print(np.asarray(predictions_orig)[6][:100])\n",
    "print(np.asarray(predictions_orig)[7][:100])\n",
    "print(np.asarray(predictions_orig)[8][:100])\n",
    "print(np.asarray(predictions_orig)[9][:100])"
   ]
  },
  {
   "cell_type": "code",
   "execution_count": 83,
   "metadata": {},
   "outputs": [
    {
     "name": "stdout",
     "output_type": "stream",
     "text": [
      "(10, 55000)\n"
     ]
    }
   ],
   "source": [
    "labels_preds = []\n",
    "temp = ''\n",
    "for idx, line in enumerate(predictions_orig):\n",
    "    temp = line.split(\" \")\n",
    "    temp.remove(\"\\n\")\n",
    "    temp = [int(t) for t in temp]\n",
    "    if idx==0:\n",
    "        labels_preds = temp\n",
    "    else:\n",
    "        labels_preds = np.vstack((labels_preds, temp))\n",
    "print(labels_preds.shape)"
   ]
  },
  {
   "cell_type": "code",
   "execution_count": 84,
   "metadata": {},
   "outputs": [
    {
     "name": "stdout",
     "output_type": "stream",
     "text": [
      "2 0 6 0 3 4 3 0 0 6 0 0 5 0 5 0 0 0 0 0 5 6 8 3 6 4 6 0 4 4 3 0 4 4 5 7 6 4 4 0 6 8 6 6 4 0 6 0 0 0 \n",
      "2 3 4 6 3 8 3 0 0 0 0 3 5 0 7 0 2 0 0 0 5 6 8 3 6 7 6 0 0 0 8 3 4 4 8 7 3 6 4 0 6 3 6 8 4 0 0 4 0 0 \n",
      "2 3 4 6 1 8 1 0 4 8 0 3 1 0 7 0 2 0 6 0 5 6 8 1 4 7 6 5 5 0 8 3 4 4 8 7 3 6 4 6 6 3 3 8 4 0 0 4 0 0 \n",
      "2 3 4 6 1 8 1 0 4 8 0 3 1 0 7 0 2 9 6 0 5 6 7 1 4 7 6 5 5 8 8 3 4 4 8 7 3 6 4 6 6 3 3 8 4 0 4 4 0 0 \n",
      "7 3 4 6 1 8 1 0 4 8 0 3 1 0 7 0 2 9 6 0 5 6 7 1 5 7 6 5 5 8 8 3 4 4 8 7 3 6 4 6 6 3 3 8 4 0 4 4 0 0 \n",
      "7 3 4 6 1 8 1 0 9 8 0 3 1 0 7 0 2 9 6 0 5 6 7 1 5 7 6 5 5 8 8 3 4 4 8 7 3 6 4 6 6 3 5 8 4 0 4 4 0 7 \n",
      "7 3 9 6 1 8 1 0 9 8 0 3 1 0 7 0 2 9 6 0 5 6 7 1 5 7 6 5 5 8 8 3 4 4 8 7 3 6 4 6 6 3 5 8 4 0 4 4 0 7 \n",
      "7 3 9 6 1 8 1 0 9 8 0 3 1 0 7 0 2 9 6 0 8 6 7 1 5 7 6 5 5 8 8 3 4 4 8 7 3 8 4 6 6 3 5 8 4 0 4 4 0 7 \n",
      "7 3 9 6 1 8 1 0 9 8 0 3 1 5 7 0 2 9 6 0 8 6 7 1 5 7 6 5 5 8 8 3 4 4 8 7 3 6 4 6 6 3 5 8 9 0 4 4 0 7 \n",
      "7 3 9 6 1 8 1 0 9 8 0 3 1 5 7 0 2 9 6 0 8 6 7 1 5 7 6 5 5 8 8 3 4 4 8 7 3 6 4 6 6 3 5 8 9 0 4 4 0 7 \n"
     ]
    }
   ],
   "source": [
    "f = open(\"training_predictions_m1.txt\",\"r\")\n",
    "predictions_m1 = f.readlines()\n",
    "print(np.asarray(predictions_m1)[0][:100])\n",
    "print(np.asarray(predictions_m1)[1][:100])\n",
    "print(np.asarray(predictions_m1)[2][:100])\n",
    "print(np.asarray(predictions_m1)[3][:100])\n",
    "print(np.asarray(predictions_m1)[4][:100])\n",
    "print(np.asarray(predictions_m1)[5][:100])\n",
    "print(np.asarray(predictions_m1)[6][:100])\n",
    "print(np.asarray(predictions_m1)[7][:100])\n",
    "print(np.asarray(predictions_m1)[8][:100])\n",
    "print(np.asarray(predictions_m1)[9][:100])"
   ]
  },
  {
   "cell_type": "code",
   "execution_count": 85,
   "metadata": {},
   "outputs": [
    {
     "name": "stdout",
     "output_type": "stream",
     "text": [
      "(10, 55000)\n"
     ]
    }
   ],
   "source": [
    "labels_preds_m1 = []\n",
    "temp=''\n",
    "for idx, line in enumerate(predictions_m1):\n",
    "    temp = line.split(\" \")\n",
    "    temp.remove(\"\\n\")\n",
    "    temp = [int(t) for t in temp]\n",
    "    if idx==0:\n",
    "        labels_preds_m1 = temp\n",
    "    else:\n",
    "        labels_preds_m1 = np.vstack((labels_preds_m1, temp))\n",
    "print(labels_preds_m1.shape)"
   ]
  },
  {
   "cell_type": "code",
   "execution_count": 86,
   "metadata": {},
   "outputs": [
    {
     "name": "stdout",
     "output_type": "stream",
     "text": [
      "[6 4 4 4 4 4 9 9 9 9]\n",
      "[4 4 4 9 9 9 9 9 9 9]\n"
     ]
    }
   ],
   "source": [
    "print(labels_preds_m1[:,2])\n",
    "print(labels_preds[:,2])"
   ]
  },
  {
   "cell_type": "code",
   "execution_count": 132,
   "metadata": {},
   "outputs": [],
   "source": [
    "orig_m1 = []\n",
    "for t in range(labels_preds_m1.shape[1]):\n",
    "    count=0\n",
    "    for s in range(labels_preds.shape[0]):\n",
    "        if labels_preds[s][t]==labels_preds_m1[s][t]:\n",
    "             count+=1\n",
    "    count = float(count/10)\n",
    "    orig_m1.append(count)\n",
    "    \n",
    "\n",
    "count_1 = [i for i in range(len(orig_m1)) if orig_m1[i] == 1]\n",
    "count_2 = [i for i in range(len(orig_m1)) if orig_m1[i] == 0.9]\n",
    "count_3 = [i for i in range(len(orig_m1)) if orig_m1[i] == 0.8]\n",
    "count_4 = [i for i in range(len(orig_m1)) if orig_m1[i] == 0.7]\n",
    "count_5 = [i for i in range(len(orig_m1)) if orig_m1[i] == 0.6]\n",
    "count_6 = [i for i in range(len(orig_m1)) if orig_m1[i] == 0.5]\n",
    "count_7 = [i for i in range(len(orig_m1)) if orig_m1[i] == 0.4]\n",
    "count_8 = [i for i in range(len(orig_m1)) if orig_m1[i] == 0.3]\n",
    "count_9 = [i for i in range(len(orig_m1)) if orig_m1[i] == 0.2]\n",
    "count_10 = [i for i in range(len(orig_m1)) if orig_m1[i] == 0.1]\n",
    "count_11 = [i for i in range(len(orig_m1)) if orig_m1[i] == 0.0]\n",
    "arr = []\n",
    "arr.extend(count_1[:1])\n",
    "arr.extend(count_2[:1])\n",
    "arr.extend(count_3[:1])\n",
    "arr.extend(count_4[:1])\n",
    "arr.extend(count_5[:1])\n",
    "arr.extend(count_6[:1])\n",
    "arr.extend(count_7[:1])\n",
    "arr.extend(count_8[:1])\n",
    "arr.extend(count_9[:1])\n",
    "arr.extend(count_10[:1])\n",
    "arr.extend(count_11[:1])"
   ]
  },
  {
   "cell_type": "code",
   "execution_count": 30,
   "metadata": {},
   "outputs": [
    {
     "name": "stdout",
     "output_type": "stream",
     "text": [
      "2 0 0 6 3 0 3 0 0 0 0 0 3 0 2 0 2 0 0 0 6 6 2 3 6 3 6 3 0 0 3 0 2 3 0 2 0 0 2 0 6 0 6 0 2 0 0 0 0 0 \n",
      "2 3 0 6 3 0 3 0 0 0 0 3 3 0 2 0 2 0 6 0 3 6 2 3 6 7 6 3 3 0 3 0 2 0 0 2 3 6 7 0 6 0 6 0 0 0 0 0 0 0 \n",
      "2 3 0 6 3 0 3 0 0 3 0 3 3 0 2 0 2 0 6 0 3 6 2 3 6 7 6 3 3 0 3 3 3 7 0 2 3 6 7 6 6 0 6 0 7 0 0 0 0 0 \n",
      "2 3 0 6 3 8 3 0 0 3 0 3 3 0 2 0 2 0 6 0 3 6 7 3 2 7 6 3 3 0 3 3 3 4 8 7 3 6 7 6 6 3 3 0 7 0 0 0 0 0 \n",
      "2 3 0 6 3 8 1 0 2 3 0 3 3 0 2 0 2 7 6 0 2 6 7 1 2 7 6 3 3 0 3 3 3 4 8 7 3 6 7 6 6 3 3 8 7 0 0 2 0 0 \n",
      "2 3 9 6 1 8 1 0 2 3 0 3 3 0 2 0 2 7 6 0 2 6 7 1 2 7 6 5 3 0 3 3 3 4 8 7 3 6 7 6 6 3 3 8 7 0 0 2 0 0 \n",
      "2 3 9 6 1 8 1 0 2 3 0 3 3 0 2 0 2 7 6 0 2 6 7 1 2 7 6 5 3 0 3 3 3 9 8 7 3 2 7 6 6 3 3 8 7 0 0 4 0 7 \n",
      "2 3 9 6 1 8 1 0 9 3 0 3 1 0 2 0 2 7 6 0 2 6 7 1 2 7 6 5 3 0 3 3 3 9 8 7 3 2 7 6 6 3 3 8 7 0 0 4 0 7 \n",
      "2 3 9 6 1 8 1 0 9 3 0 3 3 0 2 0 2 7 6 0 2 6 7 1 2 7 6 5 5 0 3 3 3 9 8 7 3 2 7 6 6 3 3 8 7 0 0 4 0 7 \n",
      "2 3 9 6 1 8 1 0 9 3 0 3 1 3 2 0 2 7 6 0 2 6 7 1 2 7 6 5 5 5 3 3 3 9 8 7 3 2 7 6 6 3 3 8 7 0 0 4 0 7 \n"
     ]
    }
   ],
   "source": [
    "f = open(\"training_predictions_m2.txt\",\"r\")\n",
    "predictions = f.readlines()\n",
    "print(np.asarray(predictions)[0][:100])\n",
    "print(np.asarray(predictions)[1][:100])\n",
    "print(np.asarray(predictions)[2][:100])\n",
    "print(np.asarray(predictions)[3][:100])\n",
    "print(np.asarray(predictions)[4][:100])\n",
    "print(np.asarray(predictions)[5][:100])\n",
    "print(np.asarray(predictions)[6][:100])\n",
    "print(np.asarray(predictions)[7][:100])\n",
    "print(np.asarray(predictions)[8][:100])\n",
    "print(np.asarray(predictions)[9][:100])"
   ]
  },
  {
   "cell_type": "code",
   "execution_count": 20,
   "metadata": {},
   "outputs": [
    {
     "name": "stdout",
     "output_type": "stream",
     "text": [
      "0 0 4 6 6 0 6 0 6 4 0 0 6 0 0 0 6 0 2 0 6 6 6 6 6 4 6 6 4 0 6 0 6 4 0 2 0 0 4 6 6 0 6 0 2 0 6 4 0 0 \n",
      "0 0 4 6 6 0 6 0 6 0 0 0 6 0 0 0 6 0 6 0 6 6 6 6 6 4 6 3 3 0 6 0 3 4 0 2 3 0 4 6 6 0 6 0 0 0 6 4 0 0 \n",
      "0 3 4 6 6 0 6 0 4 0 0 3 6 0 4 0 6 2 6 0 6 6 6 6 6 4 6 3 3 0 8 3 3 4 0 2 3 6 4 6 6 0 6 0 0 0 4 4 0 0 \n",
      "2 3 4 6 6 0 6 0 4 3 0 3 6 0 4 0 2 4 6 0 6 6 6 6 4 4 6 3 3 0 8 3 3 4 0 7 3 6 4 6 6 3 6 8 7 0 4 4 0 0 \n",
      "2 3 4 6 6 0 6 0 4 3 0 3 6 0 2 0 2 4 6 0 6 6 6 6 4 4 6 3 3 0 8 3 3 4 2 7 3 6 4 6 6 3 6 8 7 0 4 4 0 0 \n",
      "2 3 4 6 6 0 6 0 4 3 0 3 6 0 2 0 2 4 6 0 6 6 2 6 4 7 6 5 3 0 8 3 3 4 2 7 3 6 4 6 6 3 6 8 7 0 4 4 0 0 \n",
      "2 3 4 6 6 8 1 0 4 3 0 3 6 0 2 0 2 4 6 0 6 6 2 6 4 7 6 5 3 0 8 3 3 4 2 7 3 6 4 6 6 3 6 8 7 0 4 4 0 0 \n",
      "2 3 4 6 6 8 1 0 4 8 0 3 6 0 4 0 2 4 6 0 6 6 2 1 4 7 6 5 3 0 8 3 3 4 8 7 3 6 4 6 6 3 6 8 7 0 4 4 0 7 \n",
      "2 3 4 6 6 8 1 0 4 8 0 3 6 0 4 0 2 4 6 0 6 6 2 1 5 7 6 5 3 0 8 3 3 4 8 7 3 6 4 6 6 3 6 8 7 0 4 4 0 7 \n",
      "2 3 4 6 6 8 1 0 4 8 0 3 6 0 2 0 2 4 6 0 6 6 2 1 5 7 6 5 3 5 8 3 3 8 8 7 3 6 4 6 6 3 6 8 7 0 4 4 0 7 \n"
     ]
    }
   ],
   "source": [
    "f = open(\"training_predictions_m3.txt\",\"r\")\n",
    "predictions = f.readlines()\n",
    "print(np.asarray(predictions)[0][:100])\n",
    "print(np.asarray(predictions)[1][:100])\n",
    "print(np.asarray(predictions)[2][:100])\n",
    "print(np.asarray(predictions)[3][:100])\n",
    "print(np.asarray(predictions)[4][:100])\n",
    "print(np.asarray(predictions)[5][:100])\n",
    "print(np.asarray(predictions)[6][:100])\n",
    "print(np.asarray(predictions)[7][:100])\n",
    "print(np.asarray(predictions)[8][:100])\n",
    "print(np.asarray(predictions)[9][:100])"
   ]
  },
  {
   "cell_type": "code",
   "execution_count": 21,
   "metadata": {},
   "outputs": [
    {
     "name": "stdout",
     "output_type": "stream",
     "text": [
      "2 6 6 6 6 2 6 0 6 0 0 6 6 0 2 0 2 6 6 0 6 6 6 6 6 4 6 8 6 4 6 0 4 8 0 2 6 6 4 6 6 0 6 6 0 6 4 2 0 0 \n",
      "2 0 4 6 6 2 6 0 4 0 0 3 8 0 7 0 2 0 6 0 6 6 6 6 4 4 6 0 0 0 2 0 2 8 0 2 0 6 4 6 6 0 6 0 0 6 4 2 0 0 \n",
      "2 0 4 6 2 2 2 0 2 2 0 3 2 0 7 0 2 2 6 0 6 6 7 2 4 7 6 0 0 0 2 0 2 8 0 2 2 6 4 6 6 0 6 0 0 0 2 2 0 0 \n",
      "2 3 4 6 2 2 2 0 2 2 0 3 2 0 7 0 2 2 6 0 2 6 7 2 2 7 6 5 5 0 2 3 2 8 0 2 3 6 4 6 6 2 6 2 0 0 2 2 0 0 \n",
      "2 3 4 6 2 2 2 0 2 2 0 3 2 0 7 0 2 2 6 0 2 6 7 2 2 7 6 5 5 5 2 3 2 8 2 2 3 2 4 6 6 3 6 2 7 0 2 2 0 0 \n",
      "2 3 4 6 2 2 2 0 2 2 0 3 2 0 7 0 2 2 6 0 2 6 7 2 2 7 6 5 5 5 2 3 2 5 2 2 3 2 4 6 6 3 2 2 7 2 2 2 0 0 \n",
      "2 3 4 6 2 2 2 0 2 2 0 3 2 2 7 0 2 2 6 0 2 6 7 2 2 7 6 5 5 5 2 3 2 5 2 2 3 2 4 6 6 3 2 2 7 2 2 4 0 0 \n",
      "2 3 4 6 2 2 2 0 2 2 0 3 2 2 7 0 2 2 6 0 2 6 7 2 2 7 6 5 5 5 2 3 2 5 2 7 3 2 4 6 6 3 2 2 5 2 2 4 0 7 \n",
      "2 3 4 6 2 5 2 0 2 2 0 3 2 2 7 0 2 2 6 0 2 6 2 2 5 5 6 5 5 5 2 3 2 5 2 7 3 2 4 6 6 3 2 2 5 2 2 4 0 7 \n",
      "2 3 4 6 2 5 2 0 2 5 0 3 2 2 7 0 2 2 6 0 2 6 2 2 5 5 6 5 5 5 2 3 2 5 2 7 3 2 4 6 6 3 5 5 5 2 2 4 0 7 \n"
     ]
    }
   ],
   "source": [
    "f = open(\"training_predictions_m4.txt\",\"r\")\n",
    "predictions = f.readlines()\n",
    "print(np.asarray(predictions)[0][:100])\n",
    "print(np.asarray(predictions)[1][:100])\n",
    "print(np.asarray(predictions)[2][:100])\n",
    "print(np.asarray(predictions)[3][:100])\n",
    "print(np.asarray(predictions)[4][:100])\n",
    "print(np.asarray(predictions)[5][:100])\n",
    "print(np.asarray(predictions)[6][:100])\n",
    "print(np.asarray(predictions)[7][:100])\n",
    "print(np.asarray(predictions)[8][:100])\n",
    "print(np.asarray(predictions)[9][:100])"
   ]
  },
  {
   "cell_type": "code",
   "execution_count": 22,
   "metadata": {},
   "outputs": [
    {
     "name": "stdout",
     "output_type": "stream",
     "text": [
      "0 0 0 0 6 0 6 0 6 0 0 0 0 0 6 0 6 0 0 0 6 0 6 6 6 0 0 0 0 0 8 0 0 0 0 0 0 0 0 0 0 0 0 6 0 6 0 0 0 0 \n",
      "0 0 0 0 6 0 6 0 0 0 0 0 0 0 6 0 0 0 0 0 6 0 8 6 6 0 0 0 0 0 8 0 0 0 0 0 0 0 0 0 0 0 0 0 0 0 0 0 0 0 \n",
      "0 0 0 0 3 0 3 0 0 0 0 0 3 0 6 0 2 0 0 0 6 0 8 3 0 0 0 0 0 0 3 0 0 0 0 6 0 0 0 0 0 0 0 0 0 0 0 0 0 0 \n",
      "0 0 0 0 3 0 3 0 0 0 0 3 2 0 2 0 2 0 0 0 3 0 8 3 0 0 0 0 0 0 3 0 3 0 0 2 3 0 0 0 0 0 0 0 6 0 0 0 0 0 \n",
      "2 3 0 0 3 0 3 0 2 0 0 3 2 0 2 0 2 0 6 0 2 0 8 2 6 7 0 0 5 0 3 3 3 0 0 2 3 2 2 6 6 0 3 0 6 0 0 4 0 0 \n",
      "2 3 0 0 2 2 3 0 2 2 0 3 2 0 2 0 2 7 6 0 2 6 7 2 2 7 6 5 5 0 2 3 2 4 0 2 3 2 2 6 6 2 3 8 4 0 0 4 0 0 \n",
      "2 3 0 6 2 2 3 0 2 2 0 3 2 0 2 0 2 7 6 0 2 6 7 2 2 7 6 5 5 0 2 3 4 4 2 2 3 2 5 6 6 2 3 8 4 0 0 4 0 0 \n",
      "2 3 5 2 2 5 3 0 2 2 0 3 2 0 2 0 2 7 6 0 2 6 7 2 2 7 6 5 5 0 2 3 4 4 2 2 3 2 5 6 6 2 3 8 4 0 2 4 0 0 \n",
      "2 3 5 2 2 5 3 0 2 2 0 3 2 0 2 0 2 7 6 0 2 6 7 2 5 7 6 5 5 0 2 3 4 4 2 2 3 2 5 6 6 2 3 8 4 0 2 4 0 0 \n",
      "2 3 5 2 2 5 3 0 2 2 0 3 2 0 2 0 2 7 6 0 2 6 7 2 5 7 2 5 5 5 2 3 4 4 2 2 3 2 5 6 6 2 5 8 4 0 2 4 0 0 \n"
     ]
    }
   ],
   "source": [
    "f = open(\"training_predictions_m5.txt\",\"r\")\n",
    "predictions = f.readlines()\n",
    "print(np.asarray(predictions)[0][:100])\n",
    "print(np.asarray(predictions)[1][:100])\n",
    "print(np.asarray(predictions)[2][:100])\n",
    "print(np.asarray(predictions)[3][:100])\n",
    "print(np.asarray(predictions)[4][:100])\n",
    "print(np.asarray(predictions)[5][:100])\n",
    "print(np.asarray(predictions)[6][:100])\n",
    "print(np.asarray(predictions)[7][:100])\n",
    "print(np.asarray(predictions)[8][:100])\n",
    "print(np.asarray(predictions)[9][:100])"
   ]
  },
  {
   "cell_type": "code",
   "execution_count": 140,
   "metadata": {
    "scrolled": false
   },
   "outputs": [
    {
     "data": {
      "image/png": "[encoded data removed]",
      "text/plain": [
       "<Figure size 432x288 with 6 Axes>"
      ]
     },
     "metadata": {
      "needs_background": "light"
     },
     "output_type": "display_data"
    }
   ],
   "source": [
    "X_train_img = X_train.reshape(X_train.shape[0], 28, 28).copy()\n",
    "fig = plt.figure()\n",
    "for i in range(6):\n",
    "    plt.subplot(2,3,i+1)\n",
    "    plt.tight_layout()\n",
    "    plt.imshow(X_train_img[arr[i+5]], cmap=\"gray\", interpolation=\"none\")\n",
    "#     plt.title(\"Ground Truth: {}\".format(X_train_img[i]))\n",
    "#     plt.xticks([])\n",
    "#     plt.yticks([])\n"
   ]
  },
  {
   "cell_type": "code",
   "execution_count": 141,
   "metadata": {},
   "outputs": [
    {
     "data": {
      "image/png": "[encoded data removed]",
      "text/plain": [
       "<Figure size 432x288 with 6 Axes>"
      ]
     },
     "metadata": {
      "needs_background": "light"
     },
     "output_type": "display_data"
    }
   ],
   "source": [
    "X_train_m1_img = X_train_m1.reshape(X_train_m1.shape[0], 28, 28).copy()\n",
    "fig = plt.figure()\n",
    "for i in range(6):\n",
    "    plt.subplot(2,3,i+1)\n",
    "    plt.tight_layout()\n",
    "    plt.imshow(X_train_m1_img[arr[i+5]], cmap=\"gray\", interpolation=\"none\")"
   ]
  },
  {
   "cell_type": "code",
   "execution_count": 25,
   "metadata": {},
   "outputs": [
    {
     "data": {
      "image/png": "[encoded data removed]",
      "text/plain": [
       "<Figure size 432x288 with 6 Axes>"
      ]
     },
     "metadata": {
      "needs_background": "light"
     },
     "output_type": "display_data"
    }
   ],
   "source": [
    "X_train_m2_img = X_train_m2.reshape(X_train_m2.shape[0], 28, 28).copy()\n",
    "fig = plt.figure()\n",
    "for i in range(6):\n",
    "    plt.subplot(2,3,i+1)\n",
    "    plt.tight_layout()\n",
    "    plt.imshow(X_train_m2_img[i], cmap=\"gray\", interpolation=\"none\")"
   ]
  },
  {
   "cell_type": "code",
   "execution_count": 26,
   "metadata": {},
   "outputs": [
    {
     "data": {
      "image/png": "[encoded data removed]",
      "text/plain": [
       "<Figure size 432x288 with 6 Axes>"
      ]
     },
     "metadata": {
      "needs_background": "light"
     },
     "output_type": "display_data"
    }
   ],
   "source": [
    "X_train_m3_img = X_train_m3.reshape(X_train_m3.shape[0], 28, 28).copy()\n",
    "fig = plt.figure()\n",
    "for i in range(6):\n",
    "    plt.subplot(2,3,i+1)\n",
    "    plt.tight_layout()\n",
    "    plt.imshow(X_train_m3_img[i], cmap=\"gray\", interpolation=\"none\")"
   ]
  },
  {
   "cell_type": "code",
   "execution_count": 27,
   "metadata": {},
   "outputs": [
    {
     "data": {
      "image/png": "[encoded data removed]",
      "text/plain": [
       "<Figure size 432x288 with 6 Axes>"
      ]
     },
     "metadata": {
      "needs_background": "light"
     },
     "output_type": "display_data"
    }
   ],
   "source": [
    "X_train_m4_img = X_train_m4.reshape(X_train_m4.shape[0], 28, 28).copy()\n",
    "fig = plt.figure()\n",
    "for i in range(6):\n",
    "    plt.subplot(2,3,i+1)\n",
    "    plt.tight_layout()\n",
    "    plt.imshow(X_train_m4_img[i], cmap=\"gray\", interpolation=\"none\")"
   ]
  },
  {
   "cell_type": "code",
   "execution_count": 28,
   "metadata": {},
   "outputs": [
    {
     "data": {
      "image/png": "[encoded data removed]",
      "text/plain": [
       "<Figure size 432x288 with 6 Axes>"
      ]
     },
     "metadata": {
      "needs_background": "light"
     },
     "output_type": "display_data"
    }
   ],
   "source": [
    "X_train_m5_img = X_train_m5.reshape(X_train_m5.shape[0], 28, 28).copy()\n",
    "fig = plt.figure()\n",
    "for i in range(6):\n",
    "    plt.subplot(2,3,i+1)\n",
    "    plt.tight_layout()\n",
    "    plt.imshow(X_train_m5_img[i], cmap=\"gray\", interpolation=\"none\")"
   ]
  },
  {
   "cell_type": "code",
   "execution_count": 142,
   "metadata": {},
   "outputs": [
    {
     "name": "stdout",
     "output_type": "stream",
     "text": [
      "[[0.87247413]]\n",
      "[[0.80287117]]\n",
      "[[0.6985421]]\n",
      "[[0.8773979]]\n",
      "[[0.8244947]]\n",
      "[[0.7428175]]\n",
      "[[0.82398844]]\n",
      "[[0.7491631]]\n",
      "[[0.77748466]]\n",
      "[[0.8153055]]\n",
      "[[0.6681364]]\n"
     ]
    }
   ],
   "source": [
    "X_train_ori = X_train.reshape(X_train.shape[0], 1, 784).copy()\n",
    "X_train_mut1 = X_train_m1.reshape(X_train_m1.shape[0], 1, 784).copy()\n",
    "for x in arr:\n",
    "    print(np.dot(X_train_ori[x],X_train_mut1[x].T)/(np.linalg.norm(X_train_ori[x], ord=2)*np.linalg.norm(X_train_mut1[x], ord=2)))\n",
    "    "
   ]
  }
 ],
 "metadata": {
  "kernelspec": {
   "display_name": "Python 3",
   "language": "python",
   "name": "python3"
  },
  "language_info": {
   "codemirror_mode": {
    "name": "ipython",
    "version": 3
   },
   "file_extension": ".py",
   "mimetype": "text/x-python",
   "name": "python",
   "nbconvert_exporter": "python",
   "pygments_lexer": "ipython3",
   "version": "3.7.4"
  }
 },
 "nbformat": 4,
 "nbformat_minor": 2
}
